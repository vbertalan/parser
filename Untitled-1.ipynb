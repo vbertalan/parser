{
 "cells": [
  {
   "cell_type": "code",
   "execution_count": 1,
   "metadata": {},
   "outputs": [
    {
     "name": "stdout",
     "output_type": "stream",
     "text": [
      "teste\n"
     ]
    }
   ],
   "source": [
    "teste = \"017-09-26 12:40:15, INFO impl.FsDatasetImpl - Time taken to scan block pool BP-805143380 on /home/data3/current 30ms\"\n",
    "print(teste)\n",
    "\n",
    "## Teste usando split\n",
    "print(teste.split())\n",
    "\n",
    "## Teste usando NLTK\n",
    "from nltk.tokenize import word_tokenize\n",
    "word_tokenize(teste)\n",
    "\n",
    "## Teste usando Spacy\n",
    "'''\n",
    "import spacy\n",
    "## Spacy - Eficiência\n",
    "nlp = spacy.load(\"en_core_web_sm\")\n",
    "## Spacy - Acurácia\n",
    "nlp = spacy.load(\"en_core_web_trf\")\n",
    "doc = nlp(teste)\n",
    "tokens = [token.text for token in doc]\n",
    "print(tokens)\n",
    "'''\n",
    "\n",
    "## Teste usando Gensim\n",
    "from gensim.utils import tokenize\n",
    "list(tokenize(teste))"
   ]
  }
 ],
 "metadata": {
  "kernelspec": {
   "display_name": "Python 3.8.13 ('base')",
   "language": "python",
   "name": "python3"
  },
  "language_info": {
   "codemirror_mode": {
    "name": "ipython",
    "version": 3
   },
   "file_extension": ".py",
   "mimetype": "text/x-python",
   "name": "python",
   "nbconvert_exporter": "python",
   "pygments_lexer": "ipython3",
   "version": "3.8.13"
  },
  "orig_nbformat": 4,
  "vscode": {
   "interpreter": {
    "hash": "9df1e68bf46b73c6ebe6a76ad55019ef4844b94d3c6c2e70b2602d401fb2ac5d"
   }
  }
 },
 "nbformat": 4,
 "nbformat_minor": 2
}
