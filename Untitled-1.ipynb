{
 "cells": [
  {
   "cell_type": "code",
   "execution_count": 4,
   "metadata": {},
   "outputs": [
    {
     "name": "stdout",
     "output_type": "stream",
     "text": [
      "Teste usando split\n",
      "['017-09-26', '12:40:15,', 'INFO', 'impl.FsDatasetImpl', '-', 'Time', 'taken', 'to', 'scan', 'block', 'pool', 'BP-805143380', 'on', '/home/data3/current', '30ms']\n",
      "Teste usando NLTK\n",
      "['017-09-26', '12:40:15', ',', 'INFO', 'impl.FsDatasetImpl', '-', 'Time', 'taken', 'to', 'scan', 'block', 'pool', 'BP-805143380', 'on', '/home/data3/current', '30ms']\n",
      "Teste usando Gensim\n",
      "['INFO', 'impl', 'FsDatasetImpl', 'Time', 'taken', 'to', 'scan', 'block', 'pool', 'BP', 'on', 'home', 'data', 'current', 'ms']\n",
      "Teste usando Spacy\n",
      "['017', '-', '09', '-', '26', '12:40:15', ',', 'INFO', 'impl', '.', 'FsDatasetImpl', '-', 'Time', 'taken', 'to', 'scan', 'block', 'pool', 'BP-805143380', 'on', '/home', '/', 'data3', '/', 'current', '30ms']\n"
     ]
    },
    {
     "name": "stderr",
     "output_type": "stream",
     "text": [
      "c:\\ProgramData\\Anaconda3\\lib\\site-packages\\torch\\autocast_mode.py:162: UserWarning: User provided device_type of 'cuda', but CUDA is not available. Disabling\n",
      "  warnings.warn('User provided device_type of \\'cuda\\', but CUDA is not available. Disabling')\n"
     ]
    }
   ],
   "source": [
    "## Tokenize the terms of a sentence\n",
    "\n",
    "teste = \"017-09-26 12:40:15, INFO impl.FsDatasetImpl - Time taken to scan block pool BP-805143380 on /home/data3/current 30ms\"\n",
    "#print(teste)\n",
    "\n",
    "## Teste usando split\n",
    "print (\"Teste usando split\")\n",
    "print(teste.split())\n",
    "\n",
    "## Teste usando NLTK\n",
    "print (\"Teste usando NLTK\")\n",
    "from nltk.tokenize import word_tokenize\n",
    "print(word_tokenize(teste))\n",
    "\n",
    "## Teste usando Gensim\n",
    "print (\"Teste usando Gensim\")\n",
    "from gensim.utils import tokenize\n",
    "print(list(tokenize(teste)))\n",
    "\n",
    "## Teste usando Spacy\n",
    "print (\"Teste usando Spacy\")\n",
    "import spacy\n",
    "nlp = spacy.load(\"en_core_web_trf\")\n",
    "doc = nlp(teste)\n",
    "tokens = [token.text for token in doc]\n",
    "print(tokens)"
   ]
  },
  {
   "cell_type": "code",
   "execution_count": 1,
   "metadata": {},
   "outputs": [
    {
     "name": "stdout",
     "output_type": "stream",
     "text": [
      "True\n",
      "False\n",
      "False\n"
     ]
    }
   ],
   "source": [
    "## Checking if a word is completely made of letters\n",
    "\n",
    "def has_letters(word):\n",
    "    return all(char.isalpha() != False for char in word)\n",
    "\n",
    "str1 = \"palavra\"\n",
    "str2 = \"palavra2\"\n",
    "str3 = \"palavra!\"\n",
    "\n",
    "print(has_letters(str1))\n",
    "print(has_letters(str2))\n",
    "print(has_letters(str3))"
   ]
  },
  {
   "cell_type": "code",
   "execution_count": 5,
   "metadata": {},
   "outputs": [
    {
     "name": "stdout",
     "output_type": "stream",
     "text": [
      "True\n"
     ]
    }
   ],
   "source": [
    "## Detecting English words\n",
    "\n",
    "with open(\"create.txt\") as word_file:\n",
    "    english_words = {word.strip().lower() for word in word_file}\n",
    "\n",
    "def is_english_word(word):\n",
    "    return word.lower() in english_words\n",
    "\n",
    "print (is_english_word(\"abandon\"))  # should be true if you have a good english_words.txt"
   ]
  },
  {
   "cell_type": "code",
   "execution_count": 6,
   "metadata": {},
   "outputs": [
    {
     "name": "stdout",
     "output_type": "stream",
     "text": [
      "677167\n"
     ]
    }
   ],
   "source": [
    "## See size of english words set\n",
    "\n",
    "## create.txt - 663475 tokens (from http://app.aspell.net/create)\n",
    "## create_full.txt - 677167 tokens\n",
    "## english_words.txt = 370106 tokens (from https://github.com/dwyl/english-words)\n",
    "\n",
    "with open(\"create_full.txt\") as word_file:\n",
    "    words = set(word_file.read().split('\\n'))\n",
    "print(len(words))"
   ]
  },
  {
   "cell_type": "code",
   "execution_count": 7,
   "metadata": {},
   "outputs": [
    {
     "name": "stdout",
     "output_type": "stream",
     "text": [
      "True\n",
      "False\n"
     ]
    }
   ],
   "source": [
    "## Checking if a whole sentence is made of English words\n",
    "\n",
    "str1 = \"The book is on the table\"\n",
    "str2 = \"I like jabuticaba\"\n",
    "\n",
    "def check_english_sentence(sentence):\n",
    "    tokens = sentence.split()\n",
    "    return all(is_english_word(word) != False for word in tokens)\n",
    "\n",
    "print(check_english_sentence(str1))\n",
    "print(check_english_sentence(str2))"
   ]
  }
 ],
 "metadata": {
  "kernelspec": {
   "display_name": "Python 3.9.12 ('base')",
   "language": "python",
   "name": "python3"
  },
  "language_info": {
   "codemirror_mode": {
    "name": "ipython",
    "version": 3
   },
   "file_extension": ".py",
   "mimetype": "text/x-python",
   "name": "python",
   "nbconvert_exporter": "python",
   "pygments_lexer": "ipython3",
   "version": "3.9.12"
  },
  "orig_nbformat": 4,
  "vscode": {
   "interpreter": {
    "hash": "ad2bdc8ecc057115af97d19610ffacc2b4e99fae6737bb82f5d7fb13d2f2c186"
   }
  }
 },
 "nbformat": 4,
 "nbformat_minor": 2
}
