{
 "cells": [
  {
   "cell_type": "code",
   "execution_count": 7,
   "metadata": {},
   "outputs": [
    {
     "name": "stdout",
     "output_type": "stream",
     "text": [
      "017-09-26 12:40:15, INFO impl.FsDatasetImpl - Time taken to scan block pool BP-805143380 on /home/data3/current 30ms\n",
      "['017-09-26', '12:40:15,', 'INFO', 'impl.FsDatasetImpl', '-', 'Time', 'taken', 'to', 'scan', 'block', 'pool', 'BP-805143380', 'on', '/home/data3/current', '30ms']\n"
     ]
    },
    {
     "ename": "ModuleNotFoundError",
     "evalue": "No module named 'spacy'",
     "output_type": "error",
     "traceback": [
      "\u001b[1;31m---------------------------------------------------------------------------\u001b[0m",
      "\u001b[1;31mModuleNotFoundError\u001b[0m                       Traceback (most recent call last)",
      "\u001b[1;32mc:\\Users\\vbert\\OneDrive\\DOUTORADO Poly Mtl\\Projeto\\Untitled-1.ipynb Cell 1'\u001b[0m in \u001b[0;36m<cell line: 12>\u001b[1;34m()\u001b[0m\n\u001b[0;32m      <a href='vscode-notebook-cell:/c%3A/Users/vbert/OneDrive/DOUTORADO%20Poly%20Mtl/Projeto/Untitled-1.ipynb#ch0000000?line=8'>9</a>\u001b[0m word_tokenize(teste)\n\u001b[0;32m     <a href='vscode-notebook-cell:/c%3A/Users/vbert/OneDrive/DOUTORADO%20Poly%20Mtl/Projeto/Untitled-1.ipynb#ch0000000?line=10'>11</a>\u001b[0m \u001b[39m## Teste usando Spacy\u001b[39;00m\n\u001b[1;32m---> <a href='vscode-notebook-cell:/c%3A/Users/vbert/OneDrive/DOUTORADO%20Poly%20Mtl/Projeto/Untitled-1.ipynb#ch0000000?line=11'>12</a>\u001b[0m \u001b[39mimport\u001b[39;00m \u001b[39mspacy\u001b[39;00m\n\u001b[0;32m     <a href='vscode-notebook-cell:/c%3A/Users/vbert/OneDrive/DOUTORADO%20Poly%20Mtl/Projeto/Untitled-1.ipynb#ch0000000?line=12'>13</a>\u001b[0m \u001b[39m## Spacy - Eficiência\u001b[39;00m\n\u001b[0;32m     <a href='vscode-notebook-cell:/c%3A/Users/vbert/OneDrive/DOUTORADO%20Poly%20Mtl/Projeto/Untitled-1.ipynb#ch0000000?line=13'>14</a>\u001b[0m nlp \u001b[39m=\u001b[39m spacy\u001b[39m.\u001b[39mload(\u001b[39m\"\u001b[39m\u001b[39men_core_web_sm\u001b[39m\u001b[39m\"\u001b[39m)\n",
      "\u001b[1;31mModuleNotFoundError\u001b[0m: No module named 'spacy'"
     ]
    }
   ],
   "source": [
    "teste = \"017-09-26 12:40:15, INFO impl.FsDatasetImpl - Time taken to scan block pool BP-805143380 on /home/data3/current 30ms\"\n",
    "print(teste)\n",
    "\n",
    "## Teste usando split\n",
    "print(teste.split())\n",
    "\n",
    "## Teste usando NLTK\n",
    "from nltk.tokenize import word_tokenize\n",
    "word_tokenize(teste)\n",
    "\n",
    "## Teste usando Spacy\n",
    "import spacy\n",
    "## Spacy - Eficiência\n",
    "nlp = spacy.load(\"en_core_web_sm\")\n",
    "## Spacy - Acurácia\n",
    "#nlp = spacy.load(\"en_core_web_trf\")\n",
    "doc = nlp(teste)\n",
    "tokens = [token.text for token in doc]\n",
    "print(tokens)\n"
   ]
  }
 ],
 "metadata": {
  "kernelspec": {
   "display_name": "Python 3.8.13 ('base')",
   "language": "python",
   "name": "python3"
  },
  "language_info": {
   "codemirror_mode": {
    "name": "ipython",
    "version": 3
   },
   "file_extension": ".py",
   "mimetype": "text/x-python",
   "name": "python",
   "nbconvert_exporter": "python",
   "pygments_lexer": "ipython3",
   "version": "3.8.13"
  },
  "orig_nbformat": 4,
  "vscode": {
   "interpreter": {
    "hash": "9df1e68bf46b73c6ebe6a76ad55019ef4844b94d3c6c2e70b2602d401fb2ac5d"
   }
  }
 },
 "nbformat": 4,
 "nbformat_minor": 2
}
